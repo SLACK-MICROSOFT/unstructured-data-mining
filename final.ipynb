{
 "cells": [
  {
   "cell_type": "code",
   "execution_count": 46,
   "metadata": {},
   "outputs": [],
   "source": [
    "import requests\n",
    "from bs4 import BeautifulSoup\n",
    "import nltk\n",
    "from nltk.tokenize import word_tokenize, sent_tokenize\n",
    "from nltk.tokenize import PunktSentenceTokenizer"
   ]
  },
  {
   "cell_type": "code",
   "execution_count": 47,
   "metadata": {},
   "outputs": [],
   "source": [
    "from collections import defaultdict"
   ]
  },
  {
   "cell_type": "code",
   "execution_count": 48,
   "metadata": {},
   "outputs": [],
   "source": [
    "import re\n",
    "def striphtml(data):\n",
    "    p = re.compile(r'<.*?>')\n",
    "    return p.sub('', data)"
   ]
  },
  {
   "cell_type": "code",
   "execution_count": 49,
   "metadata": {},
   "outputs": [],
   "source": [
    "import spacy\n",
    "from spacy import displacy\n",
    "from collections import Counter\n",
    "import en_core_web_sm\n",
    "from pprint import pprint\n",
    "nlp = en_core_web_sm.load()\n"
   ]
  },
  {
   "cell_type": "code",
   "execution_count": 50,
   "metadata": {},
   "outputs": [],
   "source": [
    "def getTitle(link):\n",
    "    \"\"\"Attempt to get a title.\"\"\"\n",
    "    title = ''\n",
    "    if link.title.string is not None:\n",
    "        title = link.title.string\n",
    "    elif link.find(\"h1\") is not None:\n",
    "        title = link.find(\"h1\")\n",
    "    return title\n",
    "\n",
    "\n",
    "def getDescription(link):\n",
    "    \"\"\"Attempt to get description.\"\"\"\n",
    "    ''' Returning on the basis of text present in p only'''\n",
    "    return link.find_all('p')\n",
    "\n",
    "\n",
    "def getSiteName(link, url):\n",
    "    \"\"\"Attempt to get the site's base name.\"\"\"\n",
    "    sitename = ''\n",
    "    if link.find(\"meta\", property=\"og:site_name\") is not None:\n",
    "        sitename = link.find(\"meta\", property=\"og:site_name\").get('content')\n",
    "    else:\n",
    "        sitename = url.split('//')[1]\n",
    "        name = sitename.split('/')[0]\n",
    "        name = sitename.rsplit('.')[1]\n",
    "        return name.capitalize()\n",
    "    return sitename\n",
    "\n",
    "\n"
   ]
  },
  {
   "cell_type": "code",
   "execution_count": 51,
   "metadata": {},
   "outputs": [],
   "source": [
    "# Set headers\n",
    "headers = requests.utils.default_headers()\n",
    "headers.update({ 'User-Agent': 'Mozilla/5.0 (X11; Ubuntu; Linux x86_64; rv:52.0) Gecko/20100101 Firefox/52.0'})\n",
    "\n",
    "# url1 = 'https://en.wikipedia.org/wiki/Mobile_payment'\n",
    "# url = 'https://business.paytm.com/'\n",
    "# url='https://inc42.com/flash-feed/paytms-payments-bank/'\n",
    "\n",
    "\n",
    "def extract_page(url):\n",
    "    req = requests.get(url, headers)\n",
    "    soup = BeautifulSoup(req.content, 'html.parser')\n",
    "    para= getDescription(soup)\n",
    "    para =[str(i) for i in para]\n",
    "    para = \" \".join(para)\n",
    "    cleaned_para = striphtml(para)\n",
    "    sentences = sent_tokenize(cleaned_para)\n",
    "    return sentences\n",
    "\n",
    "\n",
    "# para = extract_page(url)"
   ]
  },
  {
   "cell_type": "code",
   "execution_count": 64,
   "metadata": {},
   "outputs": [],
   "source": [
    "def spacyNER(sentences):\n",
    "    for   i in range(len(sentences)):\n",
    "        doc = nlp(\" \".join(sentences[i].rsplit()))\n",
    "        pprint([(X.text, X.label_) for X in doc.ents])"
   ]
  },
  {
   "cell_type": "code",
   "execution_count": 53,
   "metadata": {},
   "outputs": [],
   "source": [
    "f = open('links.txt','r')\n",
    "urls_list = f.readlines()"
   ]
  },
  {
   "cell_type": "code",
   "execution_count": null,
   "metadata": {},
   "outputs": [],
   "source": [
    "urls_list= [i.rsplit()[0] for i in urls_list]\n",
    "urls_list"
   ]
  },
  {
   "cell_type": "code",
   "execution_count": 55,
   "metadata": {},
   "outputs": [],
   "source": [
    "# content = defaultdict(lambda:0)\n",
    "# for i in urls_list:\n",
    "#     content[i] = extract_page(i)"
   ]
  },
  {
   "cell_type": "code",
   "execution_count": 56,
   "metadata": {},
   "outputs": [],
   "source": [
    "import json\n",
    "\n",
    "with open('data.txt', 'w') as file:\n",
    "     file.write(json.dumps(content)) \n",
    "content = json.load(open(\"data.txt\"))"
   ]
  },
  {
   "cell_type": "code",
   "execution_count": null,
   "metadata": {},
   "outputs": [],
   "source": [
    "named_entity = defaultdict(lambda:0)\n",
    "for key in content:\n",
    "    named_entity[key]= spacyNER(content[key])"
   ]
  },
  {
   "cell_type": "code",
   "execution_count": null,
   "metadata": {},
   "outputs": [],
   "source": []
  }
 ],
 "metadata": {
  "kernelspec": {
   "display_name": "Python 3",
   "language": "python",
   "name": "python3"
  },
  "language_info": {
   "codemirror_mode": {
    "name": "ipython",
    "version": 3
   },
   "file_extension": ".py",
   "mimetype": "text/x-python",
   "name": "python",
   "nbconvert_exporter": "python",
   "pygments_lexer": "ipython3",
   "version": "3.6.9"
  }
 },
 "nbformat": 4,
 "nbformat_minor": 2
}
