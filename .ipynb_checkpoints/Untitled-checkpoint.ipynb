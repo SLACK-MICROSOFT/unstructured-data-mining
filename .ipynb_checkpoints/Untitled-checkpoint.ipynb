{
 "cells": [
  {
   "cell_type": "code",
   "execution_count": null,
   "metadata": {},
   "outputs": [],
   "source": [
    "import requests\n",
    "from bs4 import BeautifulSoup\n",
    "import nltk\n",
    "from nltk.tokenize import word_tokenize, sent_tokenize\n",
    "from nltk.tokenize import PunktSentenceTokenizer"
   ]
  },
  {
   "cell_type": "code",
   "execution_count": 18,
   "metadata": {},
   "outputs": [],
   "source": [
    "from collections import defaultdict"
   ]
  },
  {
   "cell_type": "code",
   "execution_count": null,
   "metadata": {},
   "outputs": [],
   "source": [
    "import re\n",
    "def striphtml(data):\n",
    "    p = re.compile(r'<.*?>')\n",
    "    return p.sub('', data)"
   ]
  },
  {
   "cell_type": "code",
   "execution_count": null,
   "metadata": {},
   "outputs": [],
   "source": [
    "import spacy\n",
    "from spacy import displacy\n",
    "from collections import Counter\n",
    "import en_core_web_sm\n",
    "from pprint import pprint\n",
    "nlp = en_core_web_sm.load()\n"
   ]
  },
  {
   "cell_type": "code",
   "execution_count": null,
   "metadata": {},
   "outputs": [],
   "source": [
    "def getTitle(link):\n",
    "    \"\"\"Attempt to get a title.\"\"\"\n",
    "    title = ''\n",
    "    if link.title.string is not None:\n",
    "        title = link.title.string\n",
    "    elif link.find(\"h1\") is not None:\n",
    "        title = link.find(\"h1\")\n",
    "    return title\n",
    "\n",
    "\n",
    "def getDescription(link):\n",
    "    \"\"\"Attempt to get description.\"\"\"\n",
    "    ''' Returning on the basis of text present in p only'''\n",
    "    return link.find_all('p')\n",
    "\n",
    "\n",
    "def getSiteName(link, url):\n",
    "    \"\"\"Attempt to get the site's base name.\"\"\"\n",
    "    sitename = ''\n",
    "    if link.find(\"meta\", property=\"og:site_name\") is not None:\n",
    "        sitename = link.find(\"meta\", property=\"og:site_name\").get('content')\n",
    "    else:\n",
    "        sitename = url.split('//')[1]\n",
    "        name = sitename.split('/')[0]\n",
    "        name = sitename.rsplit('.')[1]\n",
    "        return name.capitalize()\n",
    "    return sitename\n",
    "\n",
    "\n"
   ]
  },
  {
   "cell_type": "code",
   "execution_count": null,
   "metadata": {},
   "outputs": [],
   "source": [
    "# Set headers\n",
    "headers = requests.utils.default_headers()\n",
    "headers.update({ 'User-Agent': 'Mozilla/5.0 (X11; Ubuntu; Linux x86_64; rv:52.0) Gecko/20100101 Firefox/52.0'})\n",
    "\n",
    "# url1 = 'https://en.wikipedia.org/wiki/Mobile_payment'\n",
    "# url = 'https://business.paytm.com/'\n",
    "# url='https://inc42.com/flash-feed/paytms-payments-bank/'\n",
    "\n",
    "\n",
    "def extract_page(url):\n",
    "    req = requests.get(url, headers)\n",
    "    soup = BeautifulSoup(req.content, 'html.parser')\n",
    "    para= getDescription(soup)\n",
    "    para =[str(i) for i in para]\n",
    "    para = \" \".join(para)\n",
    "    cleaned_para = striphtml(para)\n",
    "    sentences = sent_tokenize(cleaned_para)\n",
    "    return sentences\n",
    "\n",
    "\n",
    "# para = extract_page(url)"
   ]
  },
  {
   "cell_type": "code",
   "execution_count": null,
   "metadata": {},
   "outputs": [],
   "source": [
    "def spaceNER(sentences):\n",
    "    for   i in range(len(sentences)):\n",
    "        doc = nlp(\" \".join(sentences[i].rsplit()))\n",
    "        pprint([(X.text, X.label_) for X in doc.ents])"
   ]
  },
  {
   "cell_type": "code",
   "execution_count": null,
   "metadata": {},
   "outputs": [],
   "source": [
    "#  spaceNER(para)\n",
    "# "
   ]
  },
  {
   "cell_type": "code",
   "execution_count": 16,
   "metadata": {},
   "outputs": [],
   "source": [
    "f = open('links.txt','r')\n",
    "urls_list = f.readlines()"
   ]
  },
  {
   "cell_type": "code",
   "execution_count": 17,
   "metadata": {},
   "outputs": [
    {
     "data": {
      "text/plain": [
       "['https://account.t-mobile.com',\n",
       " 'https://community.boostmobile.com/t5/Account-Payments-Billing/SOLUTION-How-to-Make-a-Payment/ta-p/21742',\n",
       " 'https://en.wikipedia.org/wiki/MobilePay',\n",
       " 'https://en.wikipedia.org/wiki/Mobile_payment',\n",
       " 'https://mobilepay.ipaymentinc.com',\n",
       " 'https://my.t-mobile.com',\n",
       " 'https://paytm.com',\n",
       " 'https://quickbooks.intuit.com/payments/mobile/',\n",
       " 'https://squareup.com/guides/mobile-payments',\n",
       " 'https://support.t-mobile.com/community/account',\n",
       " 'https://support.t-mobile.com/docs/DOC-1723',\n",
       " 'https://techcrunch.com/2016/06/17/the-evolution-of-the-mobile-payment/',\n",
       " 'https://www.boostmobile.com',\n",
       " 'https://www.dealnews.com/features/The-Pros-and-Cons-of-Mobile-Payment/2206421.html',\n",
       " 'https://www.heartlandpaymentsystems.com/mobile-payments',\n",
       " 'https://www.investopedia.com/terms/m/mobile-payment.asp',\n",
       " 'https://www.lifewire.com/most-popular-mobile-payment-apps-2373179',\n",
       " 'https://www.metrobyt-mobile.com/payment',\n",
       " 'https://www.mobilepaymentstoday.com',\n",
       " 'https://www.mobiletransaction.org/different-types-of-mobile-payments/',\n",
       " 'https://www.myfamilymobile.com',\n",
       " 'https://www.pcmag.com/roundup/358553/the-best-mobile-payment-apps',\n",
       " 'https://www.predictiveanalyticstoday.com/mobile-payment-providers/',\n",
       " 'https://www.scmp.com/topics/mobile-payments',\n",
       " 'https://www.statista.com/topics/4872/mobile-payments-worldwide/',\n",
       " 'https://www.statista.com/topics/982/mobile-payments/',\n",
       " 'https://www.thebalance.com/best-payment-apps-4159058',\n",
       " 'https://www.wellsfargo.com/biz/merchant/mobile-payments/']"
      ]
     },
     "execution_count": 17,
     "metadata": {},
     "output_type": "execute_result"
    }
   ],
   "source": [
    "urls_list= [i.rsplit()[0] for i in urls_list]\n",
    "urls_list"
   ]
  },
  {
   "cell_type": "raw",
   "metadata": {},
   "source": [
    "content = defaultdict(lambda:0)"
   ]
  },
  {
   "cell_type": "code",
   "execution_count": null,
   "metadata": {},
   "outputs": [],
   "source": []
  }
 ],
 "metadata": {
  "kernelspec": {
   "display_name": "Python 3",
   "language": "python",
   "name": "python3"
  },
  "language_info": {
   "codemirror_mode": {
    "name": "ipython",
    "version": 3
   },
   "file_extension": ".py",
   "mimetype": "text/x-python",
   "name": "python",
   "nbconvert_exporter": "python",
   "pygments_lexer": "ipython3",
   "version": "3.6.9"
  }
 },
 "nbformat": 4,
 "nbformat_minor": 2
}
